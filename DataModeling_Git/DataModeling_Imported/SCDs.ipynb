{
 "cells": [
  {
   "cell_type": "markdown",
   "metadata": {
    "application/vnd.databricks.v1+cell": {
     "cellMetadata": {},
     "inputWidgets": {},
     "nuid": "f88bf32e-c7e2-47b0-bec6-afa636bd3c16",
     "showTitle": false,
     "tableResultSettingsMap": {},
     "title": ""
    }
   },
   "source": [
    "### **SCD TYPE - 1**"
   ]
  },
  {
   "cell_type": "code",
   "execution_count": 0,
   "metadata": {
    "application/vnd.databricks.v1+cell": {
     "cellMetadata": {
      "byteLimit": 2048000,
      "implicitDf": true,
      "rowLimit": 10000
     },
     "inputWidgets": {},
     "nuid": "333095eb-04f6-4f63-b694-1b14f832be4e",
     "showTitle": false,
     "tableResultSettingsMap": {},
     "title": ""
    }
   },
   "outputs": [],
   "source": [
    "%sql\n",
    "CREATE TABLE datamodeling.default.scdtyp1_source\n",
    "(\n",
    "  prod_id INT,\n",
    "  prod_name STRING,\n",
    "  prod_cat STRING,\n",
    "  processDate DATE\n",
    ")"
   ]
  },
  {
   "cell_type": "code",
   "execution_count": 0,
   "metadata": {
    "application/vnd.databricks.v1+cell": {
     "cellMetadata": {
      "byteLimit": 2048000,
      "implicitDf": true,
      "rowLimit": 10000
     },
     "inputWidgets": {},
     "nuid": "2096725d-93f1-4ba6-9725-63650dfe23f9",
     "showTitle": false,
     "tableResultSettingsMap": {},
     "title": ""
    }
   },
   "outputs": [],
   "source": [
    "%sql\n",
    "INSERT INTO datamodeling.default.scdtyp1_source\n",
    "VALUES\n",
    "(1,'prod1','cat1',CURRENT_DATE()),\n",
    "(2,'prod2','cat2',CURRENT_DATE()),\n",
    "(3,'prod3','cat3',CURRENT_DATE())"
   ]
  },
  {
   "cell_type": "code",
   "execution_count": 0,
   "metadata": {
    "application/vnd.databricks.v1+cell": {
     "cellMetadata": {
      "byteLimit": 2048000,
      "implicitDf": true,
      "rowLimit": 10000
     },
     "inputWidgets": {},
     "nuid": "20a24a94-1616-4981-bf3c-7b1f074bdbaf",
     "showTitle": false,
     "tableResultSettingsMap": {},
     "title": ""
    }
   },
   "outputs": [],
   "source": [
    "%sql\n",
    "CREATE TABLE datamodeling.gold.scdtyp1_table\n",
    "(\n",
    "  prod_id INT,\n",
    "  prod_name STRING,\n",
    "  prod_cat STRING,\n",
    "  processDate DATE\n",
    ")"
   ]
  },
  {
   "cell_type": "code",
   "execution_count": 0,
   "metadata": {
    "application/vnd.databricks.v1+cell": {
     "cellMetadata": {
      "byteLimit": 2048000,
      "rowLimit": 10000
     },
     "inputWidgets": {},
     "nuid": "e1167aac-5729-459b-ad2a-78494a465fc6",
     "showTitle": false,
     "tableResultSettingsMap": {},
     "title": ""
    }
   },
   "outputs": [],
   "source": [
    "spark.sql(\"select * from datamodeling.default.scdtyp1_source\").createOrReplaceTempView(\"src\")"
   ]
  },
  {
   "cell_type": "code",
   "execution_count": 0,
   "metadata": {
    "application/vnd.databricks.v1+cell": {
     "cellMetadata": {
      "byteLimit": 2048000,
      "implicitDf": true,
      "rowLimit": 10000
     },
     "inputWidgets": {},
     "nuid": "960411c6-73b9-493d-a3f2-6695843893a8",
     "showTitle": false,
     "tableResultSettingsMap": {},
     "title": ""
    }
   },
   "outputs": [],
   "source": [
    "%sql\n",
    "MERGE INTO datamodeling.gold.scdtyp1_table AS trg\n",
    "USING src\n",
    "ON src.prod_id = trg.prod_id\n",
    "WHEN MATCHED AND src.processDate >= trg.processDate THEN UPDATE SET *\n",
    "WHEN NOT MATCHED THEN INSERT *"
   ]
  },
  {
   "cell_type": "code",
   "execution_count": 0,
   "metadata": {
    "application/vnd.databricks.v1+cell": {
     "cellMetadata": {
      "byteLimit": 2048000,
      "implicitDf": true,
      "rowLimit": 10000
     },
     "inputWidgets": {},
     "nuid": "c2bfdefe-4e17-4152-b660-2ae26e673de8",
     "showTitle": false,
     "tableResultSettingsMap": {},
     "title": ""
    }
   },
   "outputs": [],
   "source": [
    "%sql\n",
    "SELECT * FROM datamodeling.gold.scdtyp1_table"
   ]
  },
  {
   "cell_type": "code",
   "execution_count": 0,
   "metadata": {
    "application/vnd.databricks.v1+cell": {
     "cellMetadata": {
      "byteLimit": 2048000,
      "implicitDf": true,
      "rowLimit": 10000
     },
     "inputWidgets": {},
     "nuid": "a6eaf53e-2b13-4021-82ce-d68caaab9d95",
     "showTitle": false,
     "tableResultSettingsMap": {},
     "title": ""
    }
   },
   "outputs": [],
   "source": [
    "%sql\n",
    "UPDATE datamodeling.default.scdtyp1_source SET prod_cat = 'newcategory'\n",
    "WHERE prod_id = 3"
   ]
  },
  {
   "cell_type": "markdown",
   "metadata": {
    "application/vnd.databricks.v1+cell": {
     "cellMetadata": {},
     "inputWidgets": {},
     "nuid": "3c2f1fbe-30a1-4e26-80d0-1b3ac72d6945",
     "showTitle": false,
     "tableResultSettingsMap": {},
     "title": ""
    }
   },
   "source": [
    "# **SCD TYPE 2**"
   ]
  },
  {
   "cell_type": "markdown",
   "metadata": {
    "application/vnd.databricks.v1+cell": {
     "cellMetadata": {},
     "inputWidgets": {},
     "nuid": "2ddf863f-95ef-49fd-a3c5-cc0bf29d569d",
     "showTitle": false,
     "tableResultSettingsMap": {},
     "title": ""
    }
   },
   "source": [
    "### **Source Creation**"
   ]
  },
  {
   "cell_type": "code",
   "execution_count": 0,
   "metadata": {
    "application/vnd.databricks.v1+cell": {
     "cellMetadata": {
      "byteLimit": 2048000,
      "implicitDf": true,
      "rowLimit": 10000
     },
     "inputWidgets": {},
     "nuid": "6eb56ebb-eb40-4607-9fb6-cede8c3b8bff",
     "showTitle": false,
     "tableResultSettingsMap": {},
     "title": ""
    }
   },
   "outputs": [],
   "source": [
    "%sql\n",
    "CREATE TABLE datamodeling.default.scdtyp2_source\n",
    "(\n",
    "  prod_id INT,\n",
    "  prod_name STRING,\n",
    "  prod_cat STRING,\n",
    "  processDate DATE\n",
    ")"
   ]
  },
  {
   "cell_type": "code",
   "execution_count": 0,
   "metadata": {
    "application/vnd.databricks.v1+cell": {
     "cellMetadata": {
      "byteLimit": 2048000,
      "implicitDf": true,
      "rowLimit": 10000
     },
     "inputWidgets": {},
     "nuid": "0f9cc00a-770e-4961-b972-f9298212a9b5",
     "showTitle": false,
     "tableResultSettingsMap": {},
     "title": ""
    }
   },
   "outputs": [],
   "source": [
    "%sql\n",
    "INSERT INTO datamodeling.default.scdtyp2_source\n",
    "VALUES\n",
    "(1,'prod1','cat1',CURRENT_DATE()),\n",
    "(2,'prod2','cat2',CURRENT_DATE()),\n",
    "(3,'prod3','cat3',CURRENT_DATE())"
   ]
  },
  {
   "cell_type": "markdown",
   "metadata": {
    "application/vnd.databricks.v1+cell": {
     "cellMetadata": {},
     "inputWidgets": {},
     "nuid": "2e227b21-0aa8-4e15-a065-ec2ad797e2b0",
     "showTitle": false,
     "tableResultSettingsMap": {},
     "title": ""
    }
   },
   "source": [
    "### **Target Table**"
   ]
  },
  {
   "cell_type": "code",
   "execution_count": 0,
   "metadata": {
    "application/vnd.databricks.v1+cell": {
     "cellMetadata": {
      "byteLimit": 2048000,
      "implicitDf": true,
      "rowLimit": 10000
     },
     "inputWidgets": {},
     "nuid": "22e1ec5a-c8b9-4c11-bd5b-4ff23959d360",
     "showTitle": false,
     "tableResultSettingsMap": {},
     "title": ""
    }
   },
   "outputs": [],
   "source": [
    "%sql\n",
    "CREATE TABLE datamodeling.gold.scdtype2_table\n",
    "(\n",
    "  prod_id INT,\n",
    "  prod_name STRING,\n",
    "  prod_cat STRING,\n",
    "  processDate DATE,\n",
    "  start_date DATE,\n",
    "  end_date DATE,\n",
    "  is_current STRING\n",
    ")"
   ]
  },
  {
   "cell_type": "markdown",
   "metadata": {
    "application/vnd.databricks.v1+cell": {
     "cellMetadata": {},
     "inputWidgets": {},
     "nuid": "a3cab452-b40c-4429-b5aa-032901d55a1e",
     "showTitle": false,
     "tableResultSettingsMap": {},
     "title": ""
    }
   },
   "source": [
    "**Adding additional 3 columns for SCD Type - 2**"
   ]
  },
  {
   "cell_type": "code",
   "execution_count": 0,
   "metadata": {
    "application/vnd.databricks.v1+cell": {
     "cellMetadata": {
      "byteLimit": 2048000,
      "rowLimit": 10000
     },
     "inputWidgets": {},
     "nuid": "9d9a8058-9a6a-43f7-abef-ef03fd3d6a09",
     "showTitle": false,
     "tableResultSettingsMap": {},
     "title": ""
    }
   },
   "outputs": [],
   "source": [
    "spark.sql(\"\"\"SELECT *,\n",
    "        current_timestamp as start_date,\n",
    "        CAST('3000-01-01' AS TIMESTAMP) as end_date,\n",
    "        'Y' as is_current\n",
    "FROM datamodeling.default.scdtyp2_source\"\"\").createOrReplaceTempView(\"src\")"
   ]
  },
  {
   "cell_type": "markdown",
   "metadata": {
    "application/vnd.databricks.v1+cell": {
     "cellMetadata": {},
     "inputWidgets": {},
     "nuid": "e5317e41-38dc-43cc-a6ef-a78feb20136c",
     "showTitle": false,
     "tableResultSettingsMap": {},
     "title": ""
    }
   },
   "source": [
    "### **SCD TYPE 2 MEGE CONDISTIONS**\n",
    "\n",
    "**MERGE-1** : This command will check if we have any data in the target table that is updated in the source, and will mark it as expired. "
   ]
  },
  {
   "cell_type": "code",
   "execution_count": 0,
   "metadata": {
    "application/vnd.databricks.v1+cell": {
     "cellMetadata": {
      "byteLimit": 2048000,
      "implicitDf": true,
      "rowLimit": 10000
     },
     "inputWidgets": {},
     "nuid": "fc3318a8-421d-448c-94e5-59140437a5c8",
     "showTitle": false,
     "tableResultSettingsMap": {},
     "title": ""
    }
   },
   "outputs": [],
   "source": [
    "%sql\n",
    "MERGE INTO datamodeling.gold.scdtype2_table AS trg\n",
    "USING src \n",
    "ON src.prod_id = trg.prod_id\n",
    "AND trg.is_current = 'Y'\n",
    "\n",
    "-- When We have New Data With Updates\n",
    "WHEN MATCHED AND (\n",
    "  src.prod_cat <> trg.prod_cat OR\n",
    "  src.processDate <> trg.processDate OR\n",
    "  src.prod_name <> trg.prod_name\n",
    ") THEN \n",
    "  UPDATE SET \n",
    "    trg.end_date = current_timestamp(),\n",
    "    trg.is_current = 'N'"
   ]
  },
  {
   "cell_type": "markdown",
   "metadata": {
    "application/vnd.databricks.v1+cell": {
     "cellMetadata": {},
     "inputWidgets": {},
     "nuid": "955c7d09-8320-4215-9d07-ad2a670e1a6c",
     "showTitle": false,
     "tableResultSettingsMap": {},
     "title": ""
    }
   },
   "source": [
    "**MERGE-2** : This command will bring all the non-expired commands bcz we have filter of \"is_current = 'Y'\". So, this will not bring the updated records as well bcz previous MERGE command marked it as expired. So all the new records [including updated] will be inserted in this MERGE."
   ]
  },
  {
   "cell_type": "code",
   "execution_count": 0,
   "metadata": {
    "application/vnd.databricks.v1+cell": {
     "cellMetadata": {
      "byteLimit": 2048000,
      "implicitDf": true,
      "rowLimit": 10000
     },
     "inputWidgets": {},
     "nuid": "bf8ff096-ce57-4437-9a60-b59e08d353ab",
     "showTitle": false,
     "tableResultSettingsMap": {},
     "title": ""
    }
   },
   "outputs": [],
   "source": [
    "%sql\n",
    "MERGE INTO datamodeling.gold.scdtype2_table AS trg\n",
    "USING src \n",
    "ON trg.prod_id = src.prod_id \n",
    "AND trg.is_current = 'Y' \n",
    "\n",
    "WHEN NOT MATCHED THEN INSERT \n",
    "(\n",
    "  prod_id,\n",
    "  prod_name,\n",
    "  prod_cat,\n",
    "  processDate,\n",
    "  start_date,\n",
    "  end_date,\n",
    "  is_current\n",
    ") VALUES (\n",
    "  src.prod_id,\n",
    "  src.prod_name,\n",
    "  src.prod_cat,\n",
    "  src.processDate,\n",
    "  src.start_date,\n",
    "  src.end_date,\n",
    "  src.is_current\n",
    ")"
   ]
  },
  {
   "cell_type": "code",
   "execution_count": 0,
   "metadata": {
    "application/vnd.databricks.v1+cell": {
     "cellMetadata": {
      "byteLimit": 2048000,
      "implicitDf": true,
      "rowLimit": 10000
     },
     "inputWidgets": {},
     "nuid": "c5d4f762-5167-4fb4-bba4-221495fcdf96",
     "showTitle": false,
     "tableResultSettingsMap": {},
     "title": ""
    }
   },
   "outputs": [],
   "source": [
    "%sql\n",
    "SELECT * FROM datamodeling.gold.scdtype2_table"
   ]
  },
  {
   "cell_type": "code",
   "execution_count": 0,
   "metadata": {
    "application/vnd.databricks.v1+cell": {
     "cellMetadata": {},
     "inputWidgets": {},
     "nuid": "3eabe34e-ec2c-4e5c-a83e-4d7c36381b21",
     "showTitle": false,
     "tableResultSettingsMap": {},
     "title": ""
    }
   },
   "outputs": [],
   "source": []
  }
 ],
 "metadata": {
  "application/vnd.databricks.v1+notebook": {
   "computePreferences": null,
   "dashboards": [],
   "environmentMetadata": {
    "base_environment": "",
    "environment_version": "2"
   },
   "inputWidgetPreferences": null,
   "language": "python",
   "notebookMetadata": {
    "mostRecentlyExecutedCommandWithImplicitDF": {
     "commandId": 7660599738253472,
     "dataframes": [
      "_sqldf"
     ]
    },
    "pythonIndentUnit": 4
   },
   "notebookName": "SCDs",
   "widgets": {}
  },
  "language_info": {
   "name": "python"
  }
 },
 "nbformat": 4,
 "nbformat_minor": 0
}
