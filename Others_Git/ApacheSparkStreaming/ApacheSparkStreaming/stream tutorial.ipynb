{
 "cells": [
  {
   "cell_type": "code",
   "execution_count": 0,
   "metadata": {
    "application/vnd.databricks.v1+cell": {
     "cellMetadata": {
      "byteLimit": 2048000,
      "rowLimit": 10000
     },
     "inputWidgets": {},
     "nuid": "6dc11826-0083-4936-bfd8-150a4dcd3eea",
     "showTitle": false,
     "tableResultSettingsMap": {},
     "title": ""
    }
   },
   "outputs": [],
   "source": [
    "from pyspark.sql.functions import *\n",
    "from pyspark.sql.types import *"
   ]
  },
  {
   "cell_type": "markdown",
   "metadata": {
    "application/vnd.databricks.v1+cell": {
     "cellMetadata": {},
     "inputWidgets": {},
     "nuid": "dc444b4a-1569-4084-8d98-392506c23263",
     "showTitle": false,
     "tableResultSettingsMap": {},
     "title": ""
    }
   },
   "source": [
    "### **Read Streaming Data**"
   ]
  },
  {
   "cell_type": "code",
   "execution_count": 0,
   "metadata": {
    "application/vnd.databricks.v1+cell": {
     "cellMetadata": {
      "byteLimit": 2048000,
      "rowLimit": 10000
     },
     "inputWidgets": {},
     "nuid": "1775d209-4f6b-4e22-8175-693b19572160",
     "showTitle": false,
     "tableResultSettingsMap": {},
     "title": ""
    }
   },
   "outputs": [],
   "source": [
    "my_schema = \"\"\"order_id STRING,\n",
    "        timestamp STRING,\n",
    "        customer STRUCT<\n",
    "          customer_id: INT,\n",
    "          name: STRING,\n",
    "          email: STRING,\n",
    "          address: STRUCT<\n",
    "            city: STRING,\n",
    "            postal_code: STRING,\n",
    "            country: STRING\n",
    "          >\n",
    "        >,\n",
    "        items ARRAY<STRUCT<\n",
    "          item_id: STRING,\n",
    "          product_name: STRING,\n",
    "          quantity: INT,\n",
    "          price: DOUBLE\n",
    "        >>,\n",
    "        payment STRUCT<\n",
    "          method: STRING,\n",
    "          transaction_id: STRING\n",
    "        >,\n",
    "        metadata ARRAY<STRUCT<\n",
    "          key: STRING,\n",
    "          value: STRING\n",
    "        >>\"\"\""
   ]
  },
  {
   "cell_type": "code",
   "execution_count": 0,
   "metadata": {
    "application/vnd.databricks.v1+cell": {
     "cellMetadata": {
      "byteLimit": 2048000,
      "rowLimit": 10000
     },
     "inputWidgets": {},
     "nuid": "cfc2f8c0-e868-4f8d-99aa-4b5bb2daceff",
     "showTitle": false,
     "tableResultSettingsMap": {},
     "title": ""
    }
   },
   "outputs": [],
   "source": [
    "df = spark.readStream.format(\"json\")\\\n",
    "          .option(\"multiLine\",True)\\\n",
    "          .schema(my_schema)\\\n",
    "          .load(\"/Volumes/workspace/stream/streaming/jsonsource\")\n",
    "\n",
    "\n",
    "# Transformations\n",
    "df = df.select(\"items\",\"order_id\",\"timestamp\",\"customer.customer_id\",\"customer.name\",\"customer.email\",\"customer.address.city\",\"customer.address.country\",\"customer.address.postal_code\",\"payment\",\"metadata\")\n",
    "\n",
    "df = df.withColumn(\"items\",explode_outer(\"items\"))\n",
    "\n",
    "df = df.select(\"items.item_id\",\"items.price\",\"items.product_name\",\"items.quantity\",\"order_id\",\"timestamp\",\"customer_id\",\"name\",\"email\",\"city\",\"country\",\"postal_code\",\"payment.method\",\"payment.transaction_id\",\"metadata\")\n",
    "\n",
    "df = df.withColumn(\"metadata\",explode_outer(\"metadata\"))\n",
    "df = df.select(\"*\",\"metadata.key\",\"metadata.value\").drop(\"metadata\")\n"
   ]
  },
  {
   "cell_type": "code",
   "execution_count": 0,
   "metadata": {
    "application/vnd.databricks.v1+cell": {
     "cellMetadata": {
      "byteLimit": 2048000,
      "rowLimit": 10000
     },
     "inputWidgets": {},
     "nuid": "86de2243-62c9-4066-a13b-84794cf2c61a",
     "showTitle": false,
     "tableResultSettingsMap": {},
     "title": ""
    }
   },
   "outputs": [],
   "source": [
    "df.writeStream.format(\"delta\")\\\n",
    "        .outputMode(\"append\")\\\n",
    "        .trigger(once=True)\\\n",
    "        .option(\"path\",\"/Volumes/workspace/stream/streaming/jsonsink/Data\")\\\n",
    "        .option(\"checkpointLocation\",\"/Volumes/workspace/stream/streaming/jsonsink/checkpoint\")\\\n",
    "        .start()\n"
   ]
  },
  {
   "cell_type": "code",
   "execution_count": 0,
   "metadata": {
    "application/vnd.databricks.v1+cell": {
     "cellMetadata": {
      "byteLimit": 2048000,
      "implicitDf": true,
      "rowLimit": 10000
     },
     "inputWidgets": {},
     "nuid": "a8fb5eea-06f0-4050-b279-8a19c736e93b",
     "showTitle": false,
     "tableResultSettingsMap": {},
     "title": ""
    }
   },
   "outputs": [],
   "source": [
    "%sql\n",
    "SELECT * FROM delta.`/Volumes/workspace/stream/streaming/jsonsink/Data`"
   ]
  },
  {
   "cell_type": "markdown",
   "metadata": {
    "application/vnd.databricks.v1+cell": {
     "cellMetadata": {},
     "inputWidgets": {},
     "nuid": "a2548ea7-42a2-4daa-9dbc-06835f565c6c",
     "showTitle": false,
     "tableResultSettingsMap": {},
     "title": ""
    }
   },
   "source": [
    "### **Archiving**"
   ]
  },
  {
   "cell_type": "code",
   "execution_count": 0,
   "metadata": {
    "application/vnd.databricks.v1+cell": {
     "cellMetadata": {
      "byteLimit": 2048000,
      "rowLimit": 10000
     },
     "inputWidgets": {},
     "nuid": "e29002f5-963f-4a8c-bfaf-bdd3be909414",
     "showTitle": false,
     "tableResultSettingsMap": {},
     "title": ""
    }
   },
   "outputs": [],
   "source": [
    "dbutils.fs.mkdirs(\"/Volumes/workspace/stream/streaming/jsonsinknew\")\n"
   ]
  },
  {
   "cell_type": "code",
   "execution_count": 0,
   "metadata": {
    "application/vnd.databricks.v1+cell": {
     "cellMetadata": {
      "byteLimit": 2048000,
      "rowLimit": 10000
     },
     "inputWidgets": {},
     "nuid": "8ff4a4e1-89f5-48d5-a2f2-8715f4c3e1dd",
     "showTitle": false,
     "tableResultSettingsMap": {},
     "title": ""
    }
   },
   "outputs": [],
   "source": [
    "df = spark.readStream.format(\"json\")\\\n",
    "        .option(\"multiLine\",True)\\\n",
    "        .schema(my_schema)\\\n",
    "        .option(\"cleanSource\",\"archive\")\\\n",
    "        .option(\"sourceArchiveDir\",\"/Volumes/workspace/stream/streaming/jsonsourcearchive\")\\\n",
    "        .load(\"/Volumes/workspace/stream/streaming/jsonsourcenew\")\n",
    "\n",
    "\n",
    "# Transformations\n",
    "df = df.select(\"items\",\"order_id\",\"timestamp\",\"customer.customer_id\",\"customer.name\",\"customer.email\",\"customer.address.city\",\"customer.address.country\",\"customer.address.postal_code\",\"payment\",\"metadata\")\n",
    "\n",
    "df = df.withColumn(\"items\",explode_outer(\"items\"))\n",
    "\n",
    "df = df.select(\"items.item_id\",\"items.price\",\"items.product_name\",\"items.quantity\",\"order_id\",\"timestamp\",\"customer_id\",\"name\",\"email\",\"city\",\"country\",\"postal_code\",\"payment.method\",\"payment.transaction_id\",\"metadata\")\n",
    "\n",
    "df = df.withColumn(\"metadata\",explode_outer(\"metadata\"))\n",
    "df = df.select(\"*\",\"metadata.key\",\"metadata.value\").drop(\"metadata\")\n"
   ]
  },
  {
   "cell_type": "code",
   "execution_count": 0,
   "metadata": {
    "application/vnd.databricks.v1+cell": {
     "cellMetadata": {
      "byteLimit": 2048000,
      "rowLimit": 10000
     },
     "inputWidgets": {},
     "nuid": "b665db08-4a69-4ce4-9227-bcbf9d06f3c2",
     "showTitle": false,
     "tableResultSettingsMap": {},
     "title": ""
    }
   },
   "outputs": [],
   "source": [
    "df.writeStream.format(\"delta\")\\\n",
    "        .outputMode(\"append\")\\\n",
    "        .trigger(once=True)\\\n",
    "        .option(\"path\",\"/Volumes/workspace/stream/streaming/jsonsinknew/Data\")\\\n",
    "        .option(\"checkpointLocation\",\"/Volumes/workspace/stream/streaming/jsonsinknew/checkpoint\")\\\n",
    "        .start()\n"
   ]
  },
  {
   "cell_type": "markdown",
   "metadata": {
    "application/vnd.databricks.v1+cell": {
     "cellMetadata": {},
     "inputWidgets": {},
     "nuid": "985da478-2b37-45be-9e23-5c47d8b17161",
     "showTitle": false,
     "tableResultSettingsMap": {},
     "title": ""
    }
   },
   "source": [
    "\n",
    "### READ JSON DATA (BATCH)"
   ]
  },
  {
   "cell_type": "code",
   "execution_count": 0,
   "metadata": {
    "application/vnd.databricks.v1+cell": {
     "cellMetadata": {},
     "inputWidgets": {},
     "nuid": "15a66bb3-f5cb-4048-8fca-dd459d4406cf",
     "showTitle": false,
     "tableResultSettingsMap": {},
     "title": ""
    }
   },
   "outputs": [],
   "source": [
    "# df = spark.read.format(\"json\")\\\n",
    "#           .option(\"inferShcema\",True)\\\n",
    "#           .option(\"multiLine\",True)\\\n",
    "#           .load(\"/Volumes/workspace/stream/streaming/jsonsource\")\n",
    "\n",
    "# display(df)"
   ]
  },
  {
   "cell_type": "code",
   "execution_count": 0,
   "metadata": {
    "application/vnd.databricks.v1+cell": {
     "cellMetadata": {
      "byteLimit": 2048000,
      "rowLimit": 10000
     },
     "inputWidgets": {},
     "nuid": "fadf0b25-3c71-4622-8a9a-4c7ef4d39717",
     "showTitle": false,
     "tableResultSettingsMap": {},
     "title": ""
    }
   },
   "outputs": [],
   "source": [
    "# df = df.select(\"items\",\"order_id\",\"timestamp\",\"customer.customer_id\",\"customer.name\",\"customer.email\",\"customer.address.city\",\"customer.address.country\",\"customer.address.postal_code\",\"payment\",\"metadata\")\n",
    "\n",
    "# df = df.withColumn(\"items\",explode_outer(\"items\"))\n",
    "\n",
    "# display(df)"
   ]
  },
  {
   "cell_type": "code",
   "execution_count": 0,
   "metadata": {
    "application/vnd.databricks.v1+cell": {
     "cellMetadata": {
      "byteLimit": 2048000,
      "rowLimit": 10000
     },
     "inputWidgets": {},
     "nuid": "c07c6c58-1e2f-40d6-8b30-df0a438e79af",
     "showTitle": false,
     "tableResultSettingsMap": {},
     "title": ""
    }
   },
   "outputs": [],
   "source": [
    "# df = df.select(\"items.item_id\",\"items.price\",\"items.product_name\",\"items.quantity\",\"order_id\",\"timestamp\",\"customer_id\",\"name\",\"email\",\"city\",\"country\",\"postal_code\",\"payment.method\",\"payment.transaction_id\",\"metadata\")\n",
    "# display(df)"
   ]
  },
  {
   "cell_type": "code",
   "execution_count": 0,
   "metadata": {
    "application/vnd.databricks.v1+cell": {
     "cellMetadata": {
      "byteLimit": 2048000,
      "rowLimit": 10000
     },
     "inputWidgets": {},
     "nuid": "a9857d74-57af-4bbd-b69e-441dabc38eac",
     "showTitle": false,
     "tableResultSettingsMap": {},
     "title": ""
    }
   },
   "outputs": [],
   "source": [
    "# df = df.withColumn(\"metadata\",explode_outer(\"metadata\"))\n",
    "# df = df.select(\"*\",\"metadata.key\",\"metadata.value\").drop(\"metadata\")\n",
    "# display(df)"
   ]
  },
  {
   "cell_type": "code",
   "execution_count": 0,
   "metadata": {
    "application/vnd.databricks.v1+cell": {
     "cellMetadata": {
      "byteLimit": 2048000,
      "rowLimit": 10000
     },
     "inputWidgets": {},
     "nuid": "69f3faf0-64b7-45e1-95a4-59402396d486",
     "showTitle": false,
     "tableResultSettingsMap": {},
     "title": ""
    }
   },
   "outputs": [],
   "source": []
  }
 ],
 "metadata": {
  "application/vnd.databricks.v1+notebook": {
   "computePreferences": null,
   "dashboards": [],
   "environmentMetadata": {
    "base_environment": "",
    "environment_version": "2"
   },
   "inputWidgetPreferences": null,
   "language": "python",
   "notebookMetadata": {
    "mostRecentlyExecutedCommandWithImplicitDF": {
     "commandId": 7243716433529779,
     "dataframes": [
      "_sqldf"
     ]
    },
    "pythonIndentUnit": 4
   },
   "notebookName": "stream tutorial",
   "widgets": {}
  },
  "language_info": {
   "name": "python"
  }
 },
 "nbformat": 4,
 "nbformat_minor": 0
}
