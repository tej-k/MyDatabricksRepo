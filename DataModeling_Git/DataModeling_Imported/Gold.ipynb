{
 "cells": [
  {
   "cell_type": "markdown",
   "metadata": {
    "application/vnd.databricks.v1+cell": {
     "cellMetadata": {},
     "inputWidgets": {},
     "nuid": "8f055e20-156b-4b64-a884-478160771b53",
     "showTitle": false,
     "tableResultSettingsMap": {},
     "title": ""
    }
   },
   "source": [
    "### **Dim Customers**"
   ]
  },
  {
   "cell_type": "code",
   "execution_count": 0,
   "metadata": {
    "application/vnd.databricks.v1+cell": {
     "cellMetadata": {
      "byteLimit": 2048000,
      "implicitDf": true,
      "rowLimit": 10000
     },
     "inputWidgets": {},
     "nuid": "b5c349e2-6e6b-4260-b465-a6e83f0f8ae2",
     "showTitle": false,
     "tableResultSettingsMap": {},
     "title": ""
    }
   },
   "outputs": [],
   "source": [
    "%sql\n",
    "CREATE OR REPLACE TABLE datamodeling.gold.DimCustomers\n",
    "AS\n",
    "WITH rem_dup AS\n",
    "(\n",
    "SELECT \n",
    "  DISTINCT(customer_id),\n",
    "  customer_email,\n",
    "  customer_name,\n",
    "  Customer_Name_Upper\n",
    "FROM datamodeling.silver.silver_table\n",
    ")\n",
    "SELECT * ,\n",
    "      row_number() OVER (ORDER BY customer_id) as DimCustomerKey\n",
    "FROM rem_dup"
   ]
  },
  {
   "cell_type": "markdown",
   "metadata": {
    "application/vnd.databricks.v1+cell": {
     "cellMetadata": {},
     "inputWidgets": {},
     "nuid": "20d5918e-346b-4298-9db6-8ae965711af5",
     "showTitle": false,
     "tableResultSettingsMap": {},
     "title": ""
    }
   },
   "source": [
    "### **Dim Products**"
   ]
  },
  {
   "cell_type": "code",
   "execution_count": 0,
   "metadata": {
    "application/vnd.databricks.v1+cell": {
     "cellMetadata": {
      "byteLimit": 2048000,
      "implicitDf": true,
      "rowLimit": 10000
     },
     "inputWidgets": {},
     "nuid": "87c6d559-c556-4a6b-9e23-e97b6fba39b1",
     "showTitle": false,
     "tableResultSettingsMap": {},
     "title": ""
    }
   },
   "outputs": [],
   "source": [
    "%sql\n",
    "CREATE OR REPLACE TABLE datamodeling.gold.DimProducts\n",
    "AS\n",
    "WITH rem_dup AS\n",
    "(\n",
    "SELECT \n",
    "  DISTINCT(product_id),\n",
    "  product_name,\n",
    "  product_category\n",
    "FROM \n",
    "  datamodeling.silver.silver_table\n",
    ")\n",
    "SELECT * ,\n",
    "      row_number() OVER (ORDER BY product_id) as DimProductKey\n",
    "FROM rem_dup"
   ]
  },
  {
   "cell_type": "code",
   "execution_count": 0,
   "metadata": {
    "application/vnd.databricks.v1+cell": {
     "cellMetadata": {
      "byteLimit": 2048000,
      "implicitDf": true,
      "rowLimit": 10000
     },
     "inputWidgets": {},
     "nuid": "4341da3b-c5a5-407d-a981-df2ef89fde04",
     "showTitle": false,
     "tableResultSettingsMap": {},
     "title": ""
    }
   },
   "outputs": [],
   "source": [
    "%sql\n",
    "select * from datamodeling.gold.dimproducts"
   ]
  },
  {
   "cell_type": "markdown",
   "metadata": {
    "application/vnd.databricks.v1+cell": {
     "cellMetadata": {},
     "inputWidgets": {},
     "nuid": "da1aeb17-2e5e-49ec-ab33-ca3169afdd5b",
     "showTitle": false,
     "tableResultSettingsMap": {},
     "title": ""
    }
   },
   "source": [
    "### **Dim Payments**"
   ]
  },
  {
   "cell_type": "code",
   "execution_count": 0,
   "metadata": {
    "application/vnd.databricks.v1+cell": {
     "cellMetadata": {
      "byteLimit": 2048000,
      "implicitDf": true,
      "rowLimit": 10000
     },
     "inputWidgets": {},
     "nuid": "73fdc245-94e2-453d-9ddc-415664eb9144",
     "showTitle": false,
     "tableResultSettingsMap": {},
     "title": ""
    }
   },
   "outputs": [],
   "source": [
    "%sql\n",
    "CREATE OR REPLACE TABLE datamodeling.gold.DimPayments\n",
    "WITH rem_dup AS \n",
    "(\n",
    "SELECT \n",
    "  DISTINCT(payment_type)\n",
    "FROM datamodeling.silver.silver_table\n",
    ") \n",
    "SELECT *, row_number() OVER (ORDER BY payment_type) as DimPaymentKey FROM rem_dup"
   ]
  },
  {
   "cell_type": "code",
   "execution_count": 0,
   "metadata": {
    "application/vnd.databricks.v1+cell": {
     "cellMetadata": {
      "byteLimit": 2048000,
      "implicitDf": true,
      "rowLimit": 10000
     },
     "inputWidgets": {},
     "nuid": "1ffab94a-6b4b-4c9a-bfdb-3ea17e670050",
     "showTitle": false,
     "tableResultSettingsMap": {},
     "title": ""
    }
   },
   "outputs": [],
   "source": [
    "%sql\n",
    "SELECT * FROM datamodeling.gold.DimPayments"
   ]
  },
  {
   "cell_type": "markdown",
   "metadata": {
    "application/vnd.databricks.v1+cell": {
     "cellMetadata": {},
     "inputWidgets": {},
     "nuid": "bda0621d-cc1d-43e0-9c71-0946c93d66be",
     "showTitle": false,
     "tableResultSettingsMap": {},
     "title": ""
    }
   },
   "source": [
    "### **Dim Region**"
   ]
  },
  {
   "cell_type": "code",
   "execution_count": 0,
   "metadata": {
    "application/vnd.databricks.v1+cell": {
     "cellMetadata": {
      "byteLimit": 2048000,
      "implicitDf": true,
      "rowLimit": 10000
     },
     "inputWidgets": {},
     "nuid": "0bfb0ce3-e75c-4fbd-9a4d-b4f546cea6c9",
     "showTitle": false,
     "tableResultSettingsMap": {},
     "title": ""
    }
   },
   "outputs": [],
   "source": [
    "%sql\n",
    "CREATE OR REPLACE TABLE datamodeling.gold.DimRegions\n",
    "WITH rem_dup AS \n",
    "(\n",
    "SELECT \n",
    "  DISTINCT(country)\n",
    "FROM datamodeling.silver.silver_table\n",
    ") \n",
    "SELECT *, row_number() OVER (ORDER BY country) as DimRegionKey FROM rem_dup"
   ]
  },
  {
   "cell_type": "code",
   "execution_count": 0,
   "metadata": {
    "application/vnd.databricks.v1+cell": {
     "cellMetadata": {
      "byteLimit": 2048000,
      "implicitDf": true,
      "rowLimit": 10000
     },
     "inputWidgets": {},
     "nuid": "3cf43ade-2835-49d4-ba73-d5931334fd87",
     "showTitle": false,
     "tableResultSettingsMap": {},
     "title": ""
    }
   },
   "outputs": [],
   "source": [
    "%sql\n",
    "SELECT * FROM datamodeling.gold.dimregions"
   ]
  },
  {
   "cell_type": "markdown",
   "metadata": {
    "application/vnd.databricks.v1+cell": {
     "cellMetadata": {},
     "inputWidgets": {},
     "nuid": "2579a377-517e-4010-9e87-0a0d4a07ffcd",
     "showTitle": false,
     "tableResultSettingsMap": {},
     "title": ""
    }
   },
   "source": [
    "### **Dim Sales**"
   ]
  },
  {
   "cell_type": "code",
   "execution_count": 0,
   "metadata": {
    "application/vnd.databricks.v1+cell": {
     "cellMetadata": {
      "byteLimit": 2048000,
      "implicitDf": true,
      "rowLimit": 10000
     },
     "inputWidgets": {},
     "nuid": "4d3876e4-e7c4-4af0-88e5-619edb7aa238",
     "showTitle": false,
     "tableResultSettingsMap": {},
     "title": ""
    }
   },
   "outputs": [],
   "source": [
    "%sql\n",
    "CREATE OR REPLACE TABLE datamodeling.gold.DimSales\n",
    "AS\n",
    "SELECT \n",
    " row_number() OVER (ORDER BY order_id) as DimSaleKey,\n",
    " order_id,\n",
    " order_date,\n",
    " customer_id,\n",
    " customer_name,\n",
    " customer_email,\n",
    " product_id,\n",
    " product_name,\n",
    " product_category,\n",
    " payment_type,\n",
    " country,\n",
    " last_updated,\n",
    " Customer_Name_Upper,\n",
    " processDate\n",
    "FROM\n",
    "  datamodeling.silver.silver_table"
   ]
  },
  {
   "cell_type": "code",
   "execution_count": 0,
   "metadata": {
    "application/vnd.databricks.v1+cell": {
     "cellMetadata": {
      "byteLimit": 2048000,
      "implicitDf": true,
      "rowLimit": 10000
     },
     "inputWidgets": {},
     "nuid": "eb68c8c9-6c73-4583-80b7-201c48ec3083",
     "showTitle": false,
     "tableResultSettingsMap": {},
     "title": ""
    }
   },
   "outputs": [],
   "source": [
    "%sql\n",
    "SELECT * FROM datamodeling.gold.dimsales"
   ]
  },
  {
   "cell_type": "markdown",
   "metadata": {
    "application/vnd.databricks.v1+cell": {
     "cellMetadata": {},
     "inputWidgets": {},
     "nuid": "54e1e2af-385c-4fbb-bdd0-8bbc692b4282",
     "showTitle": false,
     "tableResultSettingsMap": {},
     "title": ""
    }
   },
   "source": [
    "### **FACT TABLE**"
   ]
  },
  {
   "cell_type": "code",
   "execution_count": 0,
   "metadata": {
    "application/vnd.databricks.v1+cell": {
     "cellMetadata": {
      "byteLimit": 2048000,
      "implicitDf": true,
      "rowLimit": 10000
     },
     "inputWidgets": {},
     "nuid": "2eb5b11e-d5e6-4b44-af25-bab7ad1dbd04",
     "showTitle": false,
     "tableResultSettingsMap": {},
     "title": ""
    }
   },
   "outputs": [],
   "source": [
    "%sql\n",
    "CREATE OR REPLACE TABLE datamodeling.gold.FactSales\n",
    "AS\n",
    "SELECT \n",
    "  S.DimSaleKey,\n",
    "  C.DimCustomerKey,\n",
    "  P.DimProductKey,\n",
    "  R.DimRegionKey,\n",
    "  PY.DimPaymentKey,\n",
    "  F.quantity,\n",
    "  F.unit_price\n",
    "FROM \n",
    "  datamodeling.silver.silver_table F\n",
    "LEFT JOIN \n",
    "  datamodeling.gold.dimcustomers C\n",
    "  ON F.customer_id = C.customer_id\n",
    "LEFT JOIN \n",
    "  datamodeling.gold.dimproducts P\n",
    "  ON F.product_id = P.product_id\n",
    "LEFT JOIN \n",
    "  datamodeling.gold.dimregions R\n",
    "  ON F.country = R.country\n",
    "LEFT JOIN \n",
    "  datamodeling.gold.dimpayments PY\n",
    "  ON F.payment_type = PY.payment_type\n",
    "LEFT JOIN \n",
    "  datamodeling.gold.dimsales S\n",
    "  ON F.order_id = S.order_id"
   ]
  },
  {
   "cell_type": "code",
   "execution_count": 0,
   "metadata": {
    "application/vnd.databricks.v1+cell": {
     "cellMetadata": {
      "byteLimit": 2048000,
      "implicitDf": true,
      "rowLimit": 10000
     },
     "inputWidgets": {},
     "nuid": "5cc3854b-cd0a-45e3-ae06-bd50c3f06c4d",
     "showTitle": false,
     "tableResultSettingsMap": {},
     "title": ""
    }
   },
   "outputs": [],
   "source": [
    "%sql\n",
    "SELECT * FROM datamodeling.gold.FactSales"
   ]
  },
  {
   "cell_type": "code",
   "execution_count": 0,
   "metadata": {
    "application/vnd.databricks.v1+cell": {
     "cellMetadata": {},
     "inputWidgets": {},
     "nuid": "2c9404d0-8977-4653-ac03-071adb338d72",
     "showTitle": false,
     "tableResultSettingsMap": {},
     "title": ""
    }
   },
   "outputs": [],
   "source": []
  }
 ],
 "metadata": {
  "application/vnd.databricks.v1+notebook": {
   "computePreferences": null,
   "dashboards": [],
   "environmentMetadata": {
    "base_environment": "",
    "environment_version": "2"
   },
   "inputWidgetPreferences": null,
   "language": "python",
   "notebookMetadata": {
    "mostRecentlyExecutedCommandWithImplicitDF": {
     "commandId": 5102638169635996,
     "dataframes": [
      "_sqldf"
     ]
    },
    "pythonIndentUnit": 4
   },
   "notebookName": "Gold",
   "widgets": {}
  },
  "language_info": {
   "name": "python"
  }
 },
 "nbformat": 4,
 "nbformat_minor": 0
}
