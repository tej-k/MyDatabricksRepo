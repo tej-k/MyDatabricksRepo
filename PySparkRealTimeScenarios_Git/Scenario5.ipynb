{
 "cells": [
  {
   "cell_type": "markdown",
   "metadata": {
    "application/vnd.databricks.v1+cell": {
     "cellMetadata": {},
     "inputWidgets": {},
     "nuid": "e9c22e73-04be-4b10-99fd-dd48c5a557d9",
     "showTitle": false,
     "tableResultSettingsMap": {},
     "title": ""
    }
   },
   "source": [
    "## ****"
   ]
  },
  {
   "cell_type": "code",
   "execution_count": 0,
   "metadata": {
    "application/vnd.databricks.v1+cell": {
     "cellMetadata": {
      "byteLimit": 2048000,
      "implicitDf": true,
      "rowLimit": 10000
     },
     "inputWidgets": {},
     "nuid": "5c220540-cf47-4cdd-99e8-3a772c57ecc3",
     "showTitle": false,
     "tableResultSettingsMap": {},
     "title": ""
    }
   },
   "outputs": [],
   "source": [
    "# %sql\n",
    "# DROP TABLE pyspark_realtime.source.customers;"
   ]
  },
  {
   "cell_type": "code",
   "execution_count": 0,
   "metadata": {
    "application/vnd.databricks.v1+cell": {
     "cellMetadata": {
      "byteLimit": 2048000,
      "implicitDf": true,
      "rowLimit": 10000
     },
     "inputWidgets": {},
     "nuid": "1cb87062-cd3c-4013-b868-9290ecb93680",
     "showTitle": false,
     "tableResultSettingsMap": {},
     "title": ""
    }
   },
   "outputs": [],
   "source": [
    "%sql\n",
    "create table pyspark_realtime.source.customers\n",
    "(\n",
    "  id string,\n",
    "  email string,\n",
    "  city string,\n",
    "  country string,\n",
    "  modifiedDate timestamp\n",
    ")"
   ]
  },
  {
   "cell_type": "code",
   "execution_count": 0,
   "metadata": {
    "application/vnd.databricks.v1+cell": {
     "cellMetadata": {
      "byteLimit": 2048000,
      "implicitDf": true,
      "rowLimit": 10000
     },
     "inputWidgets": {},
     "nuid": "b6cd95b6-8aba-42d1-9d50-2ef30abafc09",
     "showTitle": false,
     "tableResultSettingsMap": {},
     "title": ""
    }
   },
   "outputs": [],
   "source": [
    "%sql\n",
    "-- insert into pyspark_realtime.source.customers\n",
    "-- values\n",
    "-- ('1', 'john.doe@example.com', 'New York', 'USA', current_timestamp()),\n",
    "-- ('2', 'jane.smith@example.com', 'London', 'UK', current_timestamp()),\n",
    "-- ('3', 'mike.jones@example.com', 'Paris', 'France', current_timestamp()),\n",
    "-- ('4', 'sara.williams@example.com', 'Tokyo', 'Japan', current_timestamp()),\n",
    "-- ('5', 'peter.chen@example.com', 'Sydney', 'Australia', current_timestamp())\n",
    "\n",
    "\n",
    "\n",
    "\n",
    "insert into pyspark_realtime.source.customers\n",
    "values\n",
    "('1', 'john.doe@example.com', 'Seattle', 'USA', current_timestamp()),\n",
    "('6', 'jane.smith@example.com', 'London', 'UK', current_timestamp());"
   ]
  },
  {
   "cell_type": "code",
   "execution_count": 0,
   "metadata": {
    "application/vnd.databricks.v1+cell": {
     "cellMetadata": {
      "byteLimit": 2048000,
      "implicitDf": true,
      "rowLimit": 10000
     },
     "inputWidgets": {},
     "nuid": "c4d6dd00-9b1d-46ea-a41b-453dd67d58a2",
     "showTitle": false,
     "tableResultSettingsMap": {},
     "title": ""
    }
   },
   "outputs": [],
   "source": [
    "%sql\n",
    "select * from pyspark_realtime.source.customers;"
   ]
  },
  {
   "cell_type": "code",
   "execution_count": 0,
   "metadata": {
    "application/vnd.databricks.v1+cell": {
     "cellMetadata": {
      "byteLimit": 2048000,
      "implicitDf": true,
      "rowLimit": 10000
     },
     "inputWidgets": {},
     "nuid": "c593a69a-3323-4239-959b-49727ee83416",
     "showTitle": false,
     "tableResultSettingsMap": {},
     "title": ""
    }
   },
   "outputs": [],
   "source": [
    "# %sql\n",
    "# drop table pyspark_realtime.source.DimCustomers\n"
   ]
  },
  {
   "cell_type": "code",
   "execution_count": 0,
   "metadata": {
    "application/vnd.databricks.v1+cell": {
     "cellMetadata": {
      "byteLimit": 2048000,
      "rowLimit": 10000
     },
     "inputWidgets": {},
     "nuid": "a647fc47-db89-48e1-9165-9e6b8f8b552b",
     "showTitle": false,
     "tableResultSettingsMap": {},
     "title": ""
    }
   },
   "outputs": [],
   "source": [
    "if spark.catalog.tableExists(\"pyspark_realtime.source.DimCustomers\"):\n",
    "    pass\n",
    "else:\n",
    "    spark.sql(\"\"\"\n",
    "        CREATE TABLE pyspark_realtime.source.DimCustomers\n",
    "            select *, \n",
    "                current_timestamp() as startTime,\n",
    "                CAST('3000-01-01' AS TIMESTAMP) as endTime,\n",
    "                'Y' as isActive\n",
    "             from pyspark_realtime.source.customers\n",
    "    \"\"\")"
   ]
  },
  {
   "cell_type": "code",
   "execution_count": 0,
   "metadata": {
    "application/vnd.databricks.v1+cell": {
     "cellMetadata": {
      "byteLimit": 2048000,
      "implicitDf": true,
      "rowLimit": 10000
     },
     "inputWidgets": {},
     "nuid": "e09b15d5-6a23-4f73-879b-8f02ace85a9c",
     "showTitle": false,
     "tableResultSettingsMap": {},
     "title": ""
    }
   },
   "outputs": [],
   "source": [
    "%sql\n",
    "select * from pyspark_realtime.source.DimCustomers"
   ]
  },
  {
   "cell_type": "markdown",
   "metadata": {
    "application/vnd.databricks.v1+cell": {
     "cellMetadata": {},
     "inputWidgets": {},
     "nuid": "d7e27f16-c26d-4e55-b22c-4857dc4f8f54",
     "showTitle": false,
     "tableResultSettingsMap": {},
     "title": ""
    }
   },
   "source": [
    "## **SCD Type-2**"
   ]
  },
  {
   "cell_type": "code",
   "execution_count": 0,
   "metadata": {
    "application/vnd.databricks.v1+cell": {
     "cellMetadata": {
      "byteLimit": 2048000,
      "rowLimit": 10000
     },
     "inputWidgets": {},
     "nuid": "4ede3b98-bd93-4f7b-a8ce-456c0e9b82f1",
     "showTitle": false,
     "tableResultSettingsMap": {},
     "title": ""
    }
   },
   "outputs": [],
   "source": [
    "from pyspark.sql.functions import *\n",
    "from pyspark.sql.window import Window\n",
    "from delta.tables import DeltaTable"
   ]
  },
  {
   "cell_type": "code",
   "execution_count": 0,
   "metadata": {
    "application/vnd.databricks.v1+cell": {
     "cellMetadata": {
      "byteLimit": 2048000,
      "rowLimit": 10000
     },
     "inputWidgets": {},
     "nuid": "1e307817-ac8e-4ec6-8be4-3e23c1fbab06",
     "showTitle": false,
     "tableResultSettingsMap": {},
     "title": ""
    }
   },
   "outputs": [],
   "source": [
    "df = spark.sql(\"\"\"\n",
    "    select * from pyspark_realtime.source.customers\n",
    "\"\"\")\n",
    "\n",
    "df = df.withColumn(\"dedup\",row_number().over(Window.partitionBy(\"id\").orderBy(desc(\"modifieddate\")))).drop(\"dedup\")\n",
    "df = df.filter(col(\"dedup\")==1)\n",
    "df.createOrReplaceTempView(\"srctemp\")\n",
    "\n",
    "df = spark.sql(\"\"\"\n",
    "            select *, \n",
    "                current_timestamp() as startTime,\n",
    "                CAST('3000-01-01' AS TIMESTAMP) as endTime,\n",
    "                'Y' as isActive\n",
    "             from srctemp\n",
    "    \"\"\")\n",
    "\n",
    "df.createOrReplaceTempView(\"src\")\n"
   ]
  },
  {
   "cell_type": "code",
   "execution_count": 0,
   "metadata": {
    "application/vnd.databricks.v1+cell": {
     "cellMetadata": {
      "byteLimit": 2048000,
      "implicitDf": true,
      "rowLimit": 10000
     },
     "inputWidgets": {},
     "nuid": "e74a30ff-fef6-4321-902a-3958efeb8a0c",
     "showTitle": false,
     "tableResultSettingsMap": {
      "0": {
       "dataGridStateBlob": "{\"version\":1,\"tableState\":{\"columnPinning\":{\"left\":[\"#row_number#\"],\"right\":[]},\"columnSizing\":{},\"columnVisibility\":{}},\"settings\":{\"columns\":{}},\"syncTimestamp\":1756925876296}",
       "filterBlob": null,
       "queryPlanFiltersBlob": null,
       "tableResultIndex": 0
      }
     },
     "title": ""
    }
   },
   "outputs": [],
   "source": [
    "%sql\n",
    "select * from src"
   ]
  },
  {
   "cell_type": "markdown",
   "metadata": {
    "application/vnd.databricks.v1+cell": {
     "cellMetadata": {},
     "inputWidgets": {},
     "nuid": "6cca076c-b50c-48a6-9b3a-5745c162725e",
     "showTitle": false,
     "tableResultSettingsMap": {},
     "title": ""
    }
   },
   "source": [
    "## **MERGE-1: Marking the Updated Records as Expired**"
   ]
  },
  {
   "cell_type": "code",
   "execution_count": 0,
   "metadata": {
    "application/vnd.databricks.v1+cell": {
     "cellMetadata": {
      "byteLimit": 2048000,
      "implicitDf": true,
      "rowLimit": 10000
     },
     "inputWidgets": {},
     "nuid": "8e53032b-e948-4bff-91d5-ac5c172f74e9",
     "showTitle": false,
     "tableResultSettingsMap": {},
     "title": ""
    }
   },
   "outputs": [],
   "source": [
    "%sql\n",
    "merge into pyspark_realtime.source.dimCustomers as trg\n",
    "using src as src\n",
    "on trg.id=src.id and trg.isActive='Y'\n",
    "when matched and src.email <> trg.email \n",
    "or src.city <> trg.city \n",
    "or src.country <> trg.country \n",
    "or src.modifiedDate <> trg.modifiedDate\n",
    "then update set trg.endTime = current_timestamp(), trg.isActive = 'N'"
   ]
  },
  {
   "cell_type": "markdown",
   "metadata": {
    "application/vnd.databricks.v1+cell": {
     "cellMetadata": {},
     "inputWidgets": {},
     "nuid": "5e0c7fa7-def7-4655-9e62-bd1eba819e67",
     "showTitle": false,
     "tableResultSettingsMap": {},
     "title": ""
    }
   },
   "source": [
    "## **MERGE-2: INSERTING NEW + UPDATED RECORDS**"
   ]
  },
  {
   "cell_type": "code",
   "execution_count": 0,
   "metadata": {
    "application/vnd.databricks.v1+cell": {
     "cellMetadata": {
      "byteLimit": 2048000,
      "implicitDf": true,
      "rowLimit": 10000
     },
     "inputWidgets": {},
     "nuid": "d15eb935-ee0c-42bb-bdd8-6f83ff901816",
     "showTitle": false,
     "tableResultSettingsMap": {},
     "title": ""
    }
   },
   "outputs": [],
   "source": [
    "%sql\n",
    "MERGE INTO pyspark_realtime.source.DimCustomers as trg\n",
    "USING src as src\n",
    "ON src.id=trg.id and trg.isActive='Y'\n",
    "when not matched then insert *"
   ]
  },
  {
   "cell_type": "code",
   "execution_count": 0,
   "metadata": {
    "application/vnd.databricks.v1+cell": {
     "cellMetadata": {
      "byteLimit": 2048000,
      "implicitDf": true,
      "rowLimit": 10000
     },
     "inputWidgets": {},
     "nuid": "2cdd95bf-6512-4209-8abe-47b6fefc5fec",
     "showTitle": false,
     "tableResultSettingsMap": {},
     "title": ""
    }
   },
   "outputs": [],
   "source": [
    "%sql    \n",
    "select * from pyspark_realtime.source.DimCustomers"
   ]
  }
 ],
 "metadata": {
  "application/vnd.databricks.v1+notebook": {
   "computePreferences": null,
   "dashboards": [],
   "environmentMetadata": {
    "base_environment": "",
    "environment_version": "3"
   },
   "inputWidgetPreferences": null,
   "language": "python",
   "notebookMetadata": {
    "mostRecentlyExecutedCommandWithImplicitDF": {
     "commandId": 8815393460291010,
     "dataframes": [
      "_sqldf"
     ]
    },
    "pythonIndentUnit": 4
   },
   "notebookName": "Scenario5",
   "widgets": {}
  },
  "language_info": {
   "name": "python"
  }
 },
 "nbformat": 4,
 "nbformat_minor": 0
}
