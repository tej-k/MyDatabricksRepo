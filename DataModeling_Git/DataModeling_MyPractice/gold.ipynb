{
 "cells": [
  {
   "cell_type": "code",
   "execution_count": 0,
   "metadata": {
    "application/vnd.databricks.v1+cell": {
     "cellMetadata": {
      "byteLimit": 2048000,
      "implicitDf": true,
      "rowLimit": 10000
     },
     "inputWidgets": {},
     "nuid": "15ba5aa9-3470-4b71-8426-6697eaf5e6d7",
     "showTitle": false,
     "tableResultSettingsMap": {},
     "title": ""
    }
   },
   "outputs": [],
   "source": [
    "%sql\n",
    "CREATE OR REPLACE TABLE datamodeling.gold.DimCustomers\n",
    "AS\n",
    "WITH rem_dup AS\n",
    "(\n",
    "SELECT \n",
    "  DISTINCT(customer_id),\n",
    "  customer_email,\n",
    "  customer_name,\n",
    "  Customer_Name_Upper\n",
    "FROM datamodeling.silver.silver_table\n",
    ")\n",
    "SELECT * ,\n",
    "      row_number() OVER (ORDER BY customer_id) as DimCustomerKey\n",
    "FROM rem_dup"
   ]
  },
  {
   "cell_type": "code",
   "execution_count": 0,
   "metadata": {
    "application/vnd.databricks.v1+cell": {
     "cellMetadata": {
      "byteLimit": 2048000,
      "implicitDf": true,
      "rowLimit": 10000
     },
     "inputWidgets": {},
     "nuid": "40be9184-6dd9-4b82-a4b6-d10c18c9a996",
     "showTitle": false,
     "tableResultSettingsMap": {},
     "title": ""
    }
   },
   "outputs": [],
   "source": [
    "%sql\n",
    "select * from datamodeling.gold.DimCustomers\n"
   ]
  },
  {
   "cell_type": "code",
   "execution_count": 0,
   "metadata": {
    "application/vnd.databricks.v1+cell": {
     "cellMetadata": {
      "byteLimit": 2048000,
      "implicitDf": true,
      "rowLimit": 10000
     },
     "inputWidgets": {},
     "nuid": "3eec29b6-6534-4b4f-a4bf-56c5b0a0b776",
     "showTitle": false,
     "tableResultSettingsMap": {},
     "title": ""
    }
   },
   "outputs": [],
   "source": [
    "%sql\n",
    "CREATE OR REPLACE TABLE datamodeling.gold.DimProducts\n",
    "AS\n",
    "WITH rem_dup AS\n",
    "(\n",
    "SELECT \n",
    "  DISTINCT(product_id),\n",
    "  product_name,\n",
    "  product_category\n",
    "FROM \n",
    "  datamodeling.silver.silver_table\n",
    ")\n",
    "SELECT * ,\n",
    "      row_number() OVER (ORDER BY product_id) as DimProductKey\n",
    "FROM rem_dup"
   ]
  },
  {
   "cell_type": "code",
   "execution_count": 0,
   "metadata": {
    "application/vnd.databricks.v1+cell": {
     "cellMetadata": {
      "byteLimit": 2048000,
      "implicitDf": true,
      "rowLimit": 10000
     },
     "inputWidgets": {},
     "nuid": "eb10bdaf-4d17-447f-ab8c-eaf2563e6cb0",
     "showTitle": false,
     "tableResultSettingsMap": {},
     "title": ""
    }
   },
   "outputs": [],
   "source": [
    "%sql\n",
    "select * from datamodeling.gold.dimproducts"
   ]
  },
  {
   "cell_type": "code",
   "execution_count": 0,
   "metadata": {
    "application/vnd.databricks.v1+cell": {
     "cellMetadata": {
      "byteLimit": 2048000,
      "implicitDf": true,
      "rowLimit": 10000
     },
     "inputWidgets": {},
     "nuid": "c4055ccd-fdb8-4cc3-9684-456b243be0d0",
     "showTitle": false,
     "tableResultSettingsMap": {},
     "title": ""
    }
   },
   "outputs": [],
   "source": [
    "%sql\n",
    "CREATE OR REPLACE TABLE datamodeling.gold.DimPayments\n",
    "WITH rem_dup AS \n",
    "(\n",
    "SELECT \n",
    "  DISTINCT(payment_type)\n",
    "FROM datamodeling.silver.silver_table\n",
    ") \n",
    "SELECT *, row_number() OVER (ORDER BY payment_type) as DimPaymentKey FROM rem_dup"
   ]
  },
  {
   "cell_type": "code",
   "execution_count": 0,
   "metadata": {
    "application/vnd.databricks.v1+cell": {
     "cellMetadata": {
      "byteLimit": 2048000,
      "implicitDf": true,
      "rowLimit": 10000
     },
     "inputWidgets": {},
     "nuid": "4b4ac66f-4a4d-43fd-b2a2-2303dbb7ab58",
     "showTitle": false,
     "tableResultSettingsMap": {},
     "title": ""
    }
   },
   "outputs": [],
   "source": [
    "%sql\n",
    "SELECT * FROM datamodeling.gold.DimPayments"
   ]
  },
  {
   "cell_type": "code",
   "execution_count": 0,
   "metadata": {
    "application/vnd.databricks.v1+cell": {
     "cellMetadata": {
      "byteLimit": 2048000,
      "implicitDf": true,
      "rowLimit": 10000
     },
     "inputWidgets": {},
     "nuid": "01da8a16-1a36-461b-aa40-3ec24a89de4b",
     "showTitle": false,
     "tableResultSettingsMap": {},
     "title": ""
    }
   },
   "outputs": [],
   "source": [
    "%sql\n",
    "CREATE OR REPLACE TABLE datamodeling.gold.DimRegions\n",
    "WITH rem_dup AS \n",
    "(\n",
    "SELECT \n",
    "  DISTINCT(country)\n",
    "FROM datamodeling.silver.silver_table\n",
    ") \n",
    "SELECT *, row_number() OVER (ORDER BY country) as DimRegionKey FROM rem_dup"
   ]
  },
  {
   "cell_type": "code",
   "execution_count": 0,
   "metadata": {
    "application/vnd.databricks.v1+cell": {
     "cellMetadata": {
      "byteLimit": 2048000,
      "implicitDf": true,
      "rowLimit": 10000
     },
     "inputWidgets": {},
     "nuid": "65750a5c-f904-4068-aa0b-70a8ecc77ed4",
     "showTitle": false,
     "tableResultSettingsMap": {},
     "title": ""
    }
   },
   "outputs": [],
   "source": [
    "%sql\n",
    "SELECT * FROM datamodeling.gold.dimregions"
   ]
  },
  {
   "cell_type": "code",
   "execution_count": 0,
   "metadata": {
    "application/vnd.databricks.v1+cell": {
     "cellMetadata": {
      "byteLimit": 2048000,
      "implicitDf": true,
      "rowLimit": 10000
     },
     "inputWidgets": {},
     "nuid": "1ef1f26d-6dfc-4093-a4b7-13188fc8da2e",
     "showTitle": false,
     "tableResultSettingsMap": {},
     "title": ""
    }
   },
   "outputs": [],
   "source": [
    "%sql\n",
    "CREATE OR REPLACE TABLE datamodeling.gold.DimSales\n",
    "AS\n",
    "SELECT \n",
    " row_number() OVER (ORDER BY order_id) as DimSaleKey,\n",
    " order_id,\n",
    " order_date,\n",
    " customer_id,\n",
    " customer_name,\n",
    " customer_email,\n",
    " product_id,\n",
    " product_name,\n",
    " product_category,\n",
    " payment_type,\n",
    " country,\n",
    " last_updated,\n",
    " Customer_Name_Upper,\n",
    " processDate\n",
    "FROM\n",
    "  datamodeling.silver.silver_table"
   ]
  },
  {
   "cell_type": "code",
   "execution_count": 0,
   "metadata": {
    "application/vnd.databricks.v1+cell": {
     "cellMetadata": {
      "byteLimit": 2048000,
      "implicitDf": true,
      "rowLimit": 10000
     },
     "inputWidgets": {},
     "nuid": "26cfb3e5-295d-4c96-a213-6ed552851aee",
     "showTitle": false,
     "tableResultSettingsMap": {},
     "title": ""
    }
   },
   "outputs": [],
   "source": [
    "%sql\n",
    "SELECT * FROM datamodeling.gold.dimsales"
   ]
  },
  {
   "cell_type": "code",
   "execution_count": 0,
   "metadata": {
    "application/vnd.databricks.v1+cell": {
     "cellMetadata": {
      "byteLimit": 2048000,
      "implicitDf": true,
      "rowLimit": 10000
     },
     "inputWidgets": {},
     "nuid": "e153886d-10f9-4cf8-9c5c-680d07001f98",
     "showTitle": false,
     "tableResultSettingsMap": {},
     "title": ""
    }
   },
   "outputs": [],
   "source": [
    "%sql\n",
    "CREATE OR REPLACE TABLE datamodeling.gold.FactSales\n",
    "AS\n",
    "SELECT \n",
    "  S.DimSaleKey,\n",
    "  C.DimCustomerKey,\n",
    "  P.DimProductKey,\n",
    "  R.DimRegionKey,\n",
    "  PY.DimPaymentKey,\n",
    "  F.quantity,\n",
    "  F.unit_price\n",
    "FROM \n",
    "  datamodeling.silver.silver_table F\n",
    "LEFT JOIN \n",
    "  datamodeling.gold.dimcustomers C\n",
    "  ON F.customer_id = C.customer_id\n",
    "LEFT JOIN \n",
    "  datamodeling.gold.dimproducts P\n",
    "  ON F.product_id = P.product_id\n",
    "LEFT JOIN \n",
    "  datamodeling.gold.dimregions R\n",
    "  ON F.country = R.country\n",
    "LEFT JOIN \n",
    "  datamodeling.gold.dimpayments PY\n",
    "  ON F.payment_type = PY.payment_type\n",
    "LEFT JOIN \n",
    "  datamodeling.gold.dimsales S\n",
    "  ON F.order_id = S.order_id"
   ]
  },
  {
   "cell_type": "code",
   "execution_count": 0,
   "metadata": {
    "application/vnd.databricks.v1+cell": {
     "cellMetadata": {
      "byteLimit": 2048000,
      "implicitDf": true,
      "rowLimit": 10000
     },
     "inputWidgets": {},
     "nuid": "d98d7086-98ee-4f46-b13b-b5d37edfc1a4",
     "showTitle": false,
     "tableResultSettingsMap": {},
     "title": ""
    }
   },
   "outputs": [],
   "source": [
    "%sql\n",
    "SELECT * FROM datamodeling.gold.FactSales"
   ]
  }
 ],
 "metadata": {
  "application/vnd.databricks.v1+notebook": {
   "computePreferences": null,
   "dashboards": [],
   "environmentMetadata": {
    "base_environment": "",
    "environment_version": "3"
   },
   "inputWidgetPreferences": null,
   "language": "python",
   "notebookMetadata": {
    "mostRecentlyExecutedCommandWithImplicitDF": {
     "commandId": 7633703381010100,
     "dataframes": [
      "_sqldf"
     ]
    },
    "pythonIndentUnit": 4
   },
   "notebookName": "gold",
   "widgets": {}
  },
  "language_info": {
   "name": "python"
  }
 },
 "nbformat": 4,
 "nbformat_minor": 0
}
