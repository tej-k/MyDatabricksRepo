{
 "cells": [
  {
   "cell_type": "code",
   "execution_count": 0,
   "metadata": {
    "application/vnd.databricks.v1+cell": {
     "cellMetadata": {
      "byteLimit": 2048000,
      "rowLimit": 10000
     },
     "inputWidgets": {},
     "nuid": "68f19fbc-1f2b-48be-8d69-5f7231bb5284",
     "showTitle": false,
     "tableResultSettingsMap": {},
     "title": ""
    }
   },
   "outputs": [],
   "source": [
    "from pyspark.sql.functions import *\n",
    "from pyspark.sql.types import *"
   ]
  },
  {
   "cell_type": "code",
   "execution_count": 0,
   "metadata": {
    "application/vnd.databricks.v1+cell": {
     "cellMetadata": {
      "byteLimit": 2048000,
      "rowLimit": 10000
     },
     "inputWidgets": {},
     "nuid": "3aa46467-dfcd-4fc0-b0fd-596f2c1e8e49",
     "showTitle": false,
     "tableResultSettingsMap": {},
     "title": ""
    }
   },
   "outputs": [],
   "source": [
    "my_schema = \"\"\"order_id STRING,\n",
    "        timestamp STRING,\n",
    "        customer STRUCT<\n",
    "          customer_id: INT,\n",
    "          name: STRING,\n",
    "          email: STRING,\n",
    "          address: STRUCT<\n",
    "            city: STRING,\n",
    "            postal_code: STRING,\n",
    "            country: STRING\n",
    "          >\n",
    "        >,\n",
    "        items ARRAY<STRUCT<\n",
    "          item_id: STRING,\n",
    "          product_name: STRING,\n",
    "          quantity: INT,\n",
    "          price: DOUBLE\n",
    "        >>,\n",
    "        payment STRUCT<\n",
    "          method: STRING,\n",
    "          transaction_id: STRING\n",
    "        >,\n",
    "        metadata ARRAY<STRUCT<\n",
    "          key: STRING,\n",
    "          value: STRING\n",
    "        >>\"\"\"\n"
   ]
  },
  {
   "cell_type": "code",
   "execution_count": 0,
   "metadata": {
    "application/vnd.databricks.v1+cell": {
     "cellMetadata": {
      "byteLimit": 2048000,
      "rowLimit": 10000
     },
     "inputWidgets": {},
     "nuid": "52b3b8fb-d941-490b-9a9a-a2a76be607ce",
     "showTitle": false,
     "tableResultSettingsMap": {},
     "title": ""
    }
   },
   "outputs": [],
   "source": [
    "df = spark.readStream.format(\"json\").option(\"multiLine\",True).schema(my_schema).load(\"/Volumes/workspace/stream/streaming/jsonsource\")\n",
    "\n",
    "df = df.select(\"items\",\"order_id\",\"timestamp\",\"customer.customer_id\",\"customer.name\",\"customer.email\",\"customer.address.city\",\"customer.address.country\",\"customer.address.postal_code\",\"payment\",\"metadata\")\n",
    "df = df.withColumn(\"items\",explode_outer(\"items\"))\n",
    "\n",
    "df =  df.select(\"items.item_id\",\"items.price\",\"items.product_name\",\"items.quantity\",\"order_id\",\"timestamp\",\"customer_id\",\"name\",\"email\",\"city\",\"country\",\"postal_code\",\"payment.method\",\"payment.transaction_id\",\"metadata\")\n",
    "\n",
    "df = df.withColumn(\"metadata\",explode_outer(\"metadata\"))\n",
    "df = df.select(\"*\",\"metadata.key\",\"metadata.value\").drop(\"metadata\")\n"
   ]
  },
  {
   "cell_type": "code",
   "execution_count": 0,
   "metadata": {
    "application/vnd.databricks.v1+cell": {
     "cellMetadata": {
      "byteLimit": 2048000,
      "rowLimit": 10000
     },
     "inputWidgets": {},
     "nuid": "899c2493-7032-4552-8ba9-e8790df2f819",
     "showTitle": false,
     "tableResultSettingsMap": {},
     "title": ""
    }
   },
   "outputs": [],
   "source": [
    "df.writeStream.format(\"delta\").outputMode(\"append\").trigger(once=True).option(\"path\",\"Volumes/workspace/stream/streaming/jsonsink/Data\").option(\"checkpointLocation\",\"/Volumes/workspace/stream/streaming/jsonsink/checkpoint\").start()"
   ]
  },
  {
   "cell_type": "code",
   "execution_count": 0,
   "metadata": {
    "application/vnd.databricks.v1+cell": {
     "cellMetadata": {
      "byteLimit": 2048000,
      "implicitDf": true,
      "rowLimit": 10000
     },
     "inputWidgets": {},
     "nuid": "eb6ac990-429e-4e4b-8bae-2ecea9cf97ff",
     "showTitle": false,
     "tableResultSettingsMap": {},
     "title": ""
    }
   },
   "outputs": [],
   "source": [
    "%sql\n",
    "select * from delta.`/Volumes/workspace/stream/streaming/jsonsink/Data`"
   ]
  },
  {
   "cell_type": "code",
   "execution_count": 0,
   "metadata": {
    "application/vnd.databricks.v1+cell": {
     "cellMetadata": {
      "byteLimit": 2048000,
      "rowLimit": 10000
     },
     "inputWidgets": {},
     "nuid": "d1594b0c-ac3e-4ca7-9d34-b3c8bb8cde24",
     "showTitle": false,
     "tableResultSettingsMap": {},
     "title": ""
    }
   },
   "outputs": [],
   "source": [
    "df = spark.readStream.format(\"json\").option(\"multiLine\",True).schema(my_schema).option(\"cleanSource\",\"archive\").option(\"sourceArchiveDir\",\"/Volumes/workspace/stream/streaming/jsonsourcearchive\").load(\"/Volumes/workspace/stream/streaming/jsonsourcenew\")\n",
    "\n",
    "df = df.select(\"items\",\"order_id\",\"timestamp\",\"customer.customer_id\",\"customer.name\",\"customer.email\",\"customer.address.city\",\"customer.address.country\",\"customer.address.postal_code\",\"payment\",\"metadata\")\n",
    "df = df.withColumn(\"items\",explode_outer(\"items\"))\n",
    "\n",
    "df =  df.select(\"items.item_id\",\"items.price\",\"items.product_name\",\"items.quantity\",\"order_id\",\"timestamp\",\"customer_id\",\"name\",\"email\",\"city\",\"country\",\"postal_code\",\"payment.method\",\"payment.transaction_id\",\"metadata\")\n",
    "\n",
    "df = df.withColumn(\"metadata\",explode_outer(\"metadata\"))\n",
    "df = df.select(\"*\",\"metadata.key\",\"metadata.value\").drop(\"metadata\")"
   ]
  },
  {
   "cell_type": "code",
   "execution_count": 0,
   "metadata": {
    "application/vnd.databricks.v1+cell": {
     "cellMetadata": {
      "byteLimit": 2048000,
      "rowLimit": 10000
     },
     "inputWidgets": {},
     "nuid": "54e28bbe-3149-4fc2-9a22-15644c320ffb",
     "showTitle": false,
     "tableResultSettingsMap": {},
     "title": ""
    }
   },
   "outputs": [],
   "source": [
    "df.writeStream.format(\"delta\").outputMode(\"append\").trigger(once=True).option(\"path\",\"Volumes/workspace/stream/streaming/jsonsinknew/Data\").option(\"checkpointLocation\",\"/Volumes/workspace/stream/streaming/jsonsinknew/checkpoint\").start()"
   ]
  }
 ],
 "metadata": {
  "application/vnd.databricks.v1+notebook": {
   "computePreferences": null,
   "dashboards": [],
   "environmentMetadata": {
    "base_environment": "",
    "environment_version": "2"
   },
   "inputWidgetPreferences": null,
   "language": "python",
   "notebookMetadata": {
    "mostRecentlyExecutedCommandWithImplicitDF": {
     "commandId": 5499600936609923,
     "dataframes": [
      "_sqldf"
     ]
    },
    "pythonIndentUnit": 4
   },
   "notebookName": "StreamingPractice2",
   "widgets": {}
  },
  "language_info": {
   "name": "python"
  }
 },
 "nbformat": 4,
 "nbformat_minor": 0
}
