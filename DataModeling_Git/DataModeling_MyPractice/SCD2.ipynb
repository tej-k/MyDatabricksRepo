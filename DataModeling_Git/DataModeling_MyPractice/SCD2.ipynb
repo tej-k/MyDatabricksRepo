{
 "cells": [
  {
   "cell_type": "markdown",
   "metadata": {
    "application/vnd.databricks.v1+cell": {
     "cellMetadata": {},
     "inputWidgets": {},
     "nuid": "5f2767ca-8027-4363-acc6-a137f2710c62",
     "showTitle": false,
     "tableResultSettingsMap": {},
     "title": ""
    }
   },
   "source": [
    "# **SCD TYPE 2**"
   ]
  },
  {
   "cell_type": "markdown",
   "metadata": {
    "application/vnd.databricks.v1+cell": {
     "cellMetadata": {},
     "inputWidgets": {},
     "nuid": "98b82f65-0e34-4b00-9075-abc77bcf1498",
     "showTitle": false,
     "tableResultSettingsMap": {},
     "title": ""
    }
   },
   "source": [
    "### **Source Creation**"
   ]
  },
  {
   "cell_type": "code",
   "execution_count": 0,
   "metadata": {
    "application/vnd.databricks.v1+cell": {
     "cellMetadata": {
      "byteLimit": 2048000,
      "implicitDf": true,
      "rowLimit": 10000
     },
     "inputWidgets": {},
     "nuid": "c2b2e27e-14ad-4e34-b51e-a25c60e2c44d",
     "showTitle": false,
     "tableResultSettingsMap": {},
     "title": ""
    }
   },
   "outputs": [],
   "source": [
    "%sql\n",
    "CREATE TABLE datamodeling.default.scdtyp2_source\n",
    "(\n",
    "  prod_id INT,\n",
    "  prod_name STRING,\n",
    "  prod_cat STRING,\n",
    "  processDate DATE\n",
    ")"
   ]
  },
  {
   "cell_type": "code",
   "execution_count": 0,
   "metadata": {
    "application/vnd.databricks.v1+cell": {
     "cellMetadata": {
      "byteLimit": 2048000,
      "implicitDf": true,
      "rowLimit": 10000
     },
     "inputWidgets": {},
     "nuid": "fe1f4915-63a7-4242-981d-4ab6bb68e021",
     "showTitle": false,
     "tableResultSettingsMap": {},
     "title": ""
    }
   },
   "outputs": [],
   "source": [
    "%sql\n",
    "INSERT INTO datamodeling.default.scdtyp2_source\n",
    "VALUES\n",
    "(1,'prod1','cat1',CURRENT_DATE()),\n",
    "(2,'prod2','cat2',CURRENT_DATE()),\n",
    "(3,'prod3','cat3',CURRENT_DATE())"
   ]
  },
  {
   "cell_type": "markdown",
   "metadata": {
    "application/vnd.databricks.v1+cell": {
     "cellMetadata": {},
     "inputWidgets": {},
     "nuid": "88c6d3a1-8b6d-432f-8eee-d880c5931b87",
     "showTitle": false,
     "tableResultSettingsMap": {},
     "title": ""
    }
   },
   "source": [
    "### **Target Table**"
   ]
  },
  {
   "cell_type": "code",
   "execution_count": 0,
   "metadata": {
    "application/vnd.databricks.v1+cell": {
     "cellMetadata": {
      "byteLimit": 2048000,
      "implicitDf": true,
      "rowLimit": 10000
     },
     "inputWidgets": {},
     "nuid": "a2c897ec-90d4-4ef7-b36d-2a274736c06b",
     "showTitle": false,
     "tableResultSettingsMap": {},
     "title": ""
    }
   },
   "outputs": [],
   "source": [
    "%sql\n",
    "CREATE TABLE datamodeling.gold.scdtype2_table\n",
    "(\n",
    "  prod_id INT,\n",
    "  prod_name STRING,\n",
    "  prod_cat STRING,\n",
    "  processDate DATE,\n",
    "  start_date DATE,\n",
    "  end_date DATE,\n",
    "  is_current STRING\n",
    ")"
   ]
  },
  {
   "cell_type": "markdown",
   "metadata": {
    "application/vnd.databricks.v1+cell": {
     "cellMetadata": {},
     "inputWidgets": {},
     "nuid": "bfa91160-b6ac-4d22-b9a5-0f9b980c3154",
     "showTitle": false,
     "tableResultSettingsMap": {},
     "title": ""
    }
   },
   "source": [
    "**Adding additional 3 columns for SCD Type - 2**"
   ]
  },
  {
   "cell_type": "code",
   "execution_count": 0,
   "metadata": {
    "application/vnd.databricks.v1+cell": {
     "cellMetadata": {
      "byteLimit": 2048000,
      "rowLimit": 10000
     },
     "inputWidgets": {},
     "nuid": "99397919-4be8-49cb-abb7-7c592e277760",
     "showTitle": false,
     "tableResultSettingsMap": {},
     "title": ""
    }
   },
   "outputs": [],
   "source": [
    "spark.sql(\"\"\"SELECT *,\n",
    "        current_timestamp as start_date,\n",
    "        CAST('3000-01-01' AS TIMESTAMP) as end_date,\n",
    "        'Y' as is_current\n",
    "FROM datamodeling.default.scdtyp2_source\"\"\").createOrReplaceTempView(\"src\")"
   ]
  },
  {
   "cell_type": "code",
   "execution_count": 0,
   "metadata": {
    "application/vnd.databricks.v1+cell": {
     "cellMetadata": {
      "byteLimit": 2048000,
      "implicitDf": true,
      "rowLimit": 10000
     },
     "inputWidgets": {},
     "nuid": "8b446234-04d6-408d-8032-c185b8cde112",
     "showTitle": false,
     "tableResultSettingsMap": {},
     "title": ""
    }
   },
   "outputs": [],
   "source": [
    "%sql\n",
    "select * from src"
   ]
  },
  {
   "cell_type": "markdown",
   "metadata": {
    "application/vnd.databricks.v1+cell": {
     "cellMetadata": {},
     "inputWidgets": {},
     "nuid": "cc7d1d03-9ee4-463d-a4e8-6ba3e4ab8d00",
     "showTitle": false,
     "tableResultSettingsMap": {},
     "title": ""
    }
   },
   "source": [
    "%md\n",
    "### **SCD TYPE 2 MEGE CONDISTIONS**\n",
    "\n",
    "**MERGE-1** : This command will check if we have any data in the target table that is updated in the source, and will mark it as expired. "
   ]
  },
  {
   "cell_type": "code",
   "execution_count": 0,
   "metadata": {
    "application/vnd.databricks.v1+cell": {
     "cellMetadata": {
      "byteLimit": 2048000,
      "implicitDf": true,
      "rowLimit": 10000
     },
     "inputWidgets": {},
     "nuid": "9daaac03-fb28-4596-955e-45d96afe7e70",
     "showTitle": false,
     "tableResultSettingsMap": {},
     "title": ""
    }
   },
   "outputs": [],
   "source": [
    "%sql\n",
    "MERGE INTO datamodeling.gold.scdtype2_table AS trg\n",
    "USING src \n",
    "ON src.prod_id = trg.prod_id\n",
    "AND trg.is_current = 'Y'\n",
    "\n",
    "-- When We have New Data With Updates\n",
    "WHEN MATCHED AND (\n",
    "  src.prod_cat <> trg.prod_cat OR\n",
    "  src.processDate <> trg.processDate OR\n",
    "  src.prod_name <> trg.prod_name\n",
    ") THEN \n",
    "  UPDATE SET \n",
    "    trg.end_date = current_timestamp(),\n",
    "    trg.is_current = 'N'"
   ]
  },
  {
   "cell_type": "code",
   "execution_count": 0,
   "metadata": {
    "application/vnd.databricks.v1+cell": {
     "cellMetadata": {
      "byteLimit": 2048000,
      "implicitDf": true,
      "rowLimit": 10000
     },
     "inputWidgets": {},
     "nuid": "f1cf87a9-2fd7-49e3-afa6-8292864d2054",
     "showTitle": false,
     "tableResultSettingsMap": {},
     "title": ""
    }
   },
   "outputs": [],
   "source": [
    "%sql\n",
    "select * from datamodeling.gold.scdtype2_table"
   ]
  },
  {
   "cell_type": "markdown",
   "metadata": {
    "application/vnd.databricks.v1+cell": {
     "cellMetadata": {},
     "inputWidgets": {},
     "nuid": "e44777fb-33f9-4991-8003-328c517054d0",
     "showTitle": false,
     "tableResultSettingsMap": {},
     "title": ""
    }
   },
   "source": [
    "**MERGE-2** : This command will bring all the non-expired commands bcz we have filter of \"is_current = 'Y'\". So, this will not bring the updated records as well bcz previous MERGE command marked it as expired. So all the new records [including updated] will be inserted in this MERGE."
   ]
  },
  {
   "cell_type": "code",
   "execution_count": 0,
   "metadata": {
    "application/vnd.databricks.v1+cell": {
     "cellMetadata": {
      "byteLimit": 2048000,
      "implicitDf": true,
      "rowLimit": 10000
     },
     "inputWidgets": {},
     "nuid": "07d94212-2f8d-4fec-a408-b43ff57c8c2b",
     "showTitle": false,
     "tableResultSettingsMap": {},
     "title": ""
    }
   },
   "outputs": [],
   "source": [
    "%sql\n",
    "MERGE INTO datamodeling.gold.scdtype2_table AS trg\n",
    "USING src \n",
    "ON trg.prod_id = src.prod_id \n",
    "AND trg.is_current = 'Y' \n",
    "\n",
    "WHEN NOT MATCHED THEN INSERT \n",
    "(\n",
    "  prod_id,\n",
    "  prod_name,\n",
    "  prod_cat,\n",
    "  processDate,\n",
    "  start_date,\n",
    "  end_date,\n",
    "  is_current\n",
    ") VALUES (\n",
    "  src.prod_id,\n",
    "  src.prod_name,\n",
    "  src.prod_cat,\n",
    "  src.processDate,\n",
    "  src.start_date,\n",
    "  src.end_date,\n",
    "  src.is_current\n",
    ")"
   ]
  },
  {
   "cell_type": "code",
   "execution_count": 0,
   "metadata": {
    "application/vnd.databricks.v1+cell": {
     "cellMetadata": {
      "byteLimit": 2048000,
      "implicitDf": true,
      "rowLimit": 10000
     },
     "inputWidgets": {},
     "nuid": "b9467888-17d7-4cf8-a2c6-fd5125d6a036",
     "showTitle": false,
     "tableResultSettingsMap": {},
     "title": ""
    }
   },
   "outputs": [],
   "source": [
    "%sql\n",
    "UPDATE datamodeling.default.scdtyp2_source SET prod_cat = 'newcategory'\n",
    "WHERE prod_id = 3"
   ]
  }
 ],
 "metadata": {
  "application/vnd.databricks.v1+notebook": {
   "computePreferences": null,
   "dashboards": [],
   "environmentMetadata": {
    "base_environment": "",
    "environment_version": "3"
   },
   "inputWidgetPreferences": null,
   "language": "python",
   "notebookMetadata": {
    "mostRecentlyExecutedCommandWithImplicitDF": {
     "commandId": 7633703381010125,
     "dataframes": [
      "_sqldf"
     ]
    },
    "pythonIndentUnit": 4
   },
   "notebookName": "SCD2",
   "widgets": {}
  },
  "language_info": {
   "name": "python"
  }
 },
 "nbformat": 4,
 "nbformat_minor": 0
}
