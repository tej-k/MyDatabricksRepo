{
 "cells": [
  {
   "cell_type": "code",
   "execution_count": 0,
   "metadata": {
    "application/vnd.databricks.v1+cell": {
     "cellMetadata": {},
     "inputWidgets": {},
     "nuid": "56dcd06a-822b-4bc8-a988-b06725d67cba",
     "showTitle": false,
     "tableResultSettingsMap": {},
     "title": ""
    }
   },
   "outputs": [],
   "source": [
    "CREATE TABLE orders\n",
    "(\n",
    "  order_id INT,\n",
    "  order_date DATE,\n",
    "  customer_id INT,\n",
    "  order_status STRING\n",
    ");\n",
    "\n",
    "-- INSERT INTO orders\n",
    "-- VALUES\n",
    "-- (1, '2020-01-01', 1, 'COMPLETE'),\n",
    "-- (2, '2020-01-02', 2, 'PENDING'),\n",
    "-- (3, '2020-01-03', 3, 'COMPLETE'),\n",
    "-- (4, '2020-01-04', 4, 'CANCELLED'),\n",
    "-- (5, '2020-01-05', 5, 'COMPLETE');\n",
    "\n",
    "\n",
    "select * from orders;\n",
    "\n",
    "--Inserting More Data\n",
    "\n",
    "Insert INTO orders \n",
    "values \n",
    "(6, '2020-01-06', 6, 'PENDING'),\n",
    "(7, '2020-01-07', 7, 'COMPLETE');\n"
   ]
  }
 ],
 "metadata": {
  "application/vnd.databricks.v1+notebook": {
   "computePreferences": null,
   "dashboards": [],
   "environmentMetadata": null,
   "inputWidgetPreferences": null,
   "language": "sql",
   "notebookMetadata": {
    "sqlQueryOptions": {
     "applyAutoLimit": true,
     "catalog": "dlttej",
     "schema": "source"
    }
   },
   "notebookName": "source_orders.dbquery.ipynb",
   "widgets": {}
  },
  "language_info": {
   "name": "sql"
  }
 },
 "nbformat": 4,
 "nbformat_minor": 0
}
